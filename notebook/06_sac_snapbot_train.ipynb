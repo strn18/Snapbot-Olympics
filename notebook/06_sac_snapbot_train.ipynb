{
 "cells": [
  {
   "cell_type": "markdown",
   "id": "436b0ffd-890b-477c-859d-7a1965ab08d9",
   "metadata": {},
   "source": [
    "### `Soft Actor-Critic` using `Snapbot`"
   ]
  },
  {
   "cell_type": "code",
   "execution_count": 7,
   "id": "3966cc7e-a2c5-4349-b605-77de1eddd9b4",
   "metadata": {},
   "outputs": [
    {
     "name": "stdout",
     "output_type": "stream",
     "text": [
      "Ready.\n"
     ]
    }
   ],
   "source": [
    "import sys,mujoco\n",
    "import numpy as np\n",
    "import matplotlib.pyplot as plt\n",
    "sys.path.append('../package/helper/')\n",
    "sys.path.append('../package/mujoco_usage/')\n",
    "sys.path.append('../package/gym/')\n",
    "sys.path.append('../package/rl/')\n",
    "from mujoco_parser import *\n",
    "from slider import *\n",
    "from utility import *\n",
    "from snapbot_env import *\n",
    "from sac import *\n",
    "np.set_printoptions(precision=2,suppress=True,linewidth=100)\n",
    "plt.rc('xtick',labelsize=6); plt.rc('ytick',labelsize=6)\n",
    "%config InlineBackend.figure_format = 'retina'\n",
    "%matplotlib inline\n",
    "print (\"Ready.\")"
   ]
  },
  {
   "cell_type": "markdown",
   "id": "6a258f0b-3700-4131-8dd8-297c4ea84df8",
   "metadata": {},
   "source": [
    "#### Parse `Snapbot` gym"
   ]
  },
  {
   "cell_type": "code",
   "execution_count": 8,
   "id": "6c2a686f-4273-4576-a22c-8c0a294afbb2",
   "metadata": {
    "scrolled": true
   },
   "outputs": [
    {
     "name": "stdout",
     "output_type": "stream",
     "text": [
      "name:[Snapbot] dt:[0.002] HZ:[500]\n",
      "n_qpos:[25] n_qvel:[24] n_qacc:[24] n_ctrl:[8]\n",
      "\n",
      "n_body:[24]\n",
      " [0/24] [world] mass:[0.00]kg\n",
      " [1/24] [torso] mass:[0.24]kg\n",
      " [2/24] [Camera_module_1] mass:[0.06]kg\n",
      " [3/24] [Camera_module_2] mass:[0.06]kg\n",
      " [4/24] [Leg_module_1_1] mass:[0.06]kg\n",
      " [5/24] [Leg_module_1_2] mass:[0.08]kg\n",
      " [6/24] [Leg_module_1_3] mass:[0.02]kg\n",
      " [7/24] [Leg_module_1_4] mass:[0.01]kg\n",
      " [8/24] [Leg_module_1_4bar] mass:[0.01]kg\n",
      " [9/24] [Leg_module_2_1] mass:[0.06]kg\n",
      " [10/24] [Leg_module_2_2] mass:[0.08]kg\n",
      " [11/24] [Leg_module_2_3] mass:[0.02]kg\n",
      " [12/24] [Leg_module_2_4] mass:[0.01]kg\n",
      " [13/24] [Leg_module_2_4bar] mass:[0.01]kg\n",
      " [14/24] [Leg_module_4_1] mass:[0.06]kg\n",
      " [15/24] [Leg_module_4_2] mass:[0.08]kg\n",
      " [16/24] [Leg_module_4_3] mass:[0.02]kg\n",
      " [17/24] [Leg_module_4_4] mass:[0.01]kg\n",
      " [18/24] [Leg_module_4_4bar] mass:[0.01]kg\n",
      " [19/24] [Leg_module_5_1] mass:[0.06]kg\n",
      " [20/24] [Leg_module_5_2] mass:[0.08]kg\n",
      " [21/24] [Leg_module_5_3] mass:[0.02]kg\n",
      " [22/24] [Leg_module_5_4] mass:[0.01]kg\n",
      " [23/24] [Leg_module_5_4bar] mass:[0.01]kg\n",
      "body_total_mass:[1.10]kg\n",
      "\n",
      "n_geom:[24]\n",
      "geom_names:['floor', 'body', 'camera_module_1', 'camera_module_2', 'leg_module_1_1', 'leg_module_1_2', 'leg_module_1_3', 'leg_module_1_4', 'leg_module_1_4bar', 'leg_module_2_1', 'leg_module_2_2', 'leg_module_2_3', 'leg_module_2_4', 'leg_module_2_4bar', 'leg_module_4_1', 'leg_module_4_2', 'leg_module_4_3', 'leg_module_4_4', 'leg_module_4_4bar', 'leg_module_5_1', 'leg_module_5_2', 'leg_module_5_3', 'leg_module_5_4', 'leg_module_5_4bar']\n",
      "\n",
      "n_joint:[19]\n",
      " [0/19] [free] axis:[0. 0. 1.]\n",
      " [1/19] [camera_1] axis:[0. 0. 1.]\n",
      " [2/19] [camera_2] axis:[ 0.42 -0.91  0.  ]\n",
      " [3/19] [leg_1_2] axis:[0. 1. 0.]\n",
      " [4/19] [leg_1_3] axis:[1. 0. 0.]\n",
      " [5/19] [leg_1_4] axis:[1. 0. 0.]\n",
      " [6/19] [leg_1_4bar] axis:[1. 0. 0.]\n",
      " [7/19] [leg_2_2] axis:[0. 1. 0.]\n",
      " [8/19] [leg_2_3] axis:[1. 0. 0.]\n",
      " [9/19] [leg_2_4] axis:[1. 0. 0.]\n",
      " [10/19] [leg_2_4bar] axis:[1. 0. 0.]\n",
      " [11/19] [leg_4_2] axis:[0. 1. 0.]\n",
      " [12/19] [leg_4_3] axis:[1. 0. 0.]\n",
      " [13/19] [leg_4_4] axis:[1. 0. 0.]\n",
      " [14/19] [leg_4_4bar] axis:[1. 0. 0.]\n",
      " [15/19] [leg_5_2] axis:[0. 1. 0.]\n",
      " [16/19] [leg_5_3] axis:[1. 0. 0.]\n",
      " [17/19] [leg_5_4] axis:[1. 0. 0.]\n",
      " [18/19] [leg_5_4bar] axis:[1. 0. 0.]\n",
      "\n",
      "n_dof:[24] (=number of rows of Jacobian)\n",
      " [0/24] [None] attached joint:[free] body:[torso]\n",
      " [1/24] [None] attached joint:[free] body:[torso]\n",
      " [2/24] [None] attached joint:[free] body:[torso]\n",
      " [3/24] [None] attached joint:[free] body:[torso]\n",
      " [4/24] [None] attached joint:[free] body:[torso]\n",
      " [5/24] [None] attached joint:[free] body:[torso]\n",
      " [6/24] [None] attached joint:[camera_1] body:[Camera_module_1]\n",
      " [7/24] [None] attached joint:[camera_2] body:[Camera_module_2]\n",
      " [8/24] [None] attached joint:[leg_1_2] body:[Leg_module_1_2]\n",
      " [9/24] [None] attached joint:[leg_1_3] body:[Leg_module_1_3]\n",
      " [10/24] [None] attached joint:[leg_1_4] body:[Leg_module_1_4]\n",
      " [11/24] [None] attached joint:[leg_1_4bar] body:[Leg_module_1_4bar]\n",
      " [12/24] [None] attached joint:[leg_2_2] body:[Leg_module_2_2]\n",
      " [13/24] [None] attached joint:[leg_2_3] body:[Leg_module_2_3]\n",
      " [14/24] [None] attached joint:[leg_2_4] body:[Leg_module_2_4]\n",
      " [15/24] [None] attached joint:[leg_2_4bar] body:[Leg_module_2_4bar]\n",
      " [16/24] [None] attached joint:[leg_4_2] body:[Leg_module_4_2]\n",
      " [17/24] [None] attached joint:[leg_4_3] body:[Leg_module_4_3]\n",
      " [18/24] [None] attached joint:[leg_4_4] body:[Leg_module_4_4]\n",
      " [19/24] [None] attached joint:[leg_4_4bar] body:[Leg_module_4_4bar]\n",
      " [20/24] [None] attached joint:[leg_5_2] body:[Leg_module_5_2]\n",
      " [21/24] [None] attached joint:[leg_5_3] body:[Leg_module_5_3]\n",
      " [22/24] [None] attached joint:[leg_5_4] body:[Leg_module_5_4]\n",
      " [23/24] [None] attached joint:[leg_5_4bar] body:[Leg_module_5_4bar]\n",
      "\n",
      "Free joint information. n_free_joint:[1]\n",
      " [0/1] [free] body_name_attached:[torso]\n",
      "\n",
      "Revolute joint information. n_rev_joint:[18]\n",
      " [0/18] [camera_1] range:[0.000]~[0.000]\n",
      " [1/18] [camera_2] range:[-3.140]~[0.000]\n",
      " [2/18] [leg_1_2] range:[-0.900]~[0.900]\n",
      " [3/18] [leg_1_3] range:[-0.700]~[0.700]\n",
      " [4/18] [leg_1_4] range:[0.000]~[0.000]\n",
      " [5/18] [leg_1_4bar] range:[0.000]~[0.000]\n",
      " [6/18] [leg_2_2] range:[-0.900]~[0.900]\n",
      " [7/18] [leg_2_3] range:[-0.700]~[0.700]\n",
      " [8/18] [leg_2_4] range:[0.000]~[0.000]\n",
      " [9/18] [leg_2_4bar] range:[0.000]~[0.000]\n",
      " [10/18] [leg_4_2] range:[-0.900]~[0.900]\n",
      " [11/18] [leg_4_3] range:[-0.700]~[0.700]\n",
      " [12/18] [leg_4_4] range:[0.000]~[0.000]\n",
      " [13/18] [leg_4_4bar] range:[0.000]~[0.000]\n",
      " [14/18] [leg_5_2] range:[-0.900]~[0.900]\n",
      " [15/18] [leg_5_3] range:[-0.700]~[0.700]\n",
      " [16/18] [leg_5_4] range:[0.000]~[0.000]\n",
      " [17/18] [leg_5_4bar] range:[0.000]~[0.000]\n",
      "\n",
      "Prismatic joint information. n_pri_joint:[0]\n",
      "\n",
      "Control information. n_ctrl:[8]\n",
      " [0/8] [actuator_1_2] range:[-5.000]~[5.000] gear:[1.00] type:[JOINT]\n",
      " [1/8] [actuator_1_3] range:[-5.000]~[5.000] gear:[1.00] type:[JOINT]\n",
      " [2/8] [actuator_2_2] range:[-5.000]~[5.000] gear:[1.00] type:[JOINT]\n",
      " [3/8] [actuator_2_3] range:[-5.000]~[5.000] gear:[1.00] type:[JOINT]\n",
      " [4/8] [actuator_4_2] range:[-5.000]~[5.000] gear:[1.00] type:[JOINT]\n",
      " [5/8] [actuator_4_3] range:[-5.000]~[5.000] gear:[1.00] type:[JOINT]\n",
      " [6/8] [actuator_5_2] range:[-5.000]~[5.000] gear:[1.00] type:[JOINT]\n",
      " [7/8] [actuator_5_3] range:[-5.000]~[5.000] gear:[1.00] type:[JOINT]\n",
      "\n",
      "n_sensor:[8]\n",
      "sensor_names:['touchsensor_1_4', 'touchsensor_2_4', 'touchsensor_4_4', 'touchsensor_5_4', 'touchsensor_1_2', 'touchsensor_2_2', 'touchsensor_4_2', 'touchsensor_5_2']\n",
      "n_site:[8]\n",
      "site_names:['sensorsurf_1_2', 'sensorsurf_1_4', 'sensorsurf_2_2', 'sensorsurf_2_4', 'sensorsurf_4_2', 'sensorsurf_4_4', 'sensorsurf_5_2', 'sensorsurf_5_4']\n",
      "[Snapbot] Instantiated\n",
      "   [info] dt:[0.0200] HZ:[50], env-HZ:[500], mujoco_nstep:[10], state_dim:[35], o_dim:[70], a_dim:[8]\n",
      "   [history] total_sec:[0.20]sec, n:[10], intv_sec:[0.10]sec, intv_tick:[5]\n",
      "   [history] ticks:[0 5]\n",
      "Ready.\n"
     ]
    }
   ],
   "source": [
    "xml_path = '../asset/snapbot/scene_snapbot.xml'\n",
    "env = MuJoCoParserClass(name='Snapbot',rel_xml_path=xml_path,verbose=True)\n",
    "gym = SnapbotGymClass(\n",
    "    env = env,\n",
    "    HZ  = 50,\n",
    "    history_total_sec = 0.2,\n",
    "    history_intv_sec  = 0.1,\n",
    "    VERBOSE =True,\n",
    ")\n",
    "print (\"Ready.\")"
   ]
  },
  {
   "cell_type": "markdown",
   "id": "ea5ef748-52f2-4393-87d5-1fd8a0b3deed",
   "metadata": {},
   "source": [
    "#### `SAC` configuration"
   ]
  },
  {
   "cell_type": "code",
   "execution_count": 9,
   "id": "26839616-f629-4d84-8f90-be42dc2796a4",
   "metadata": {},
   "outputs": [
    {
     "name": "stdout",
     "output_type": "stream",
     "text": [
      "n_episode:[1000], max_epi_sec:[5.00], max_epi_tick:[250]\n",
      "n_warmup_epi:[10], buffer_limit:[50000], buffer_warmup:[10000]\n"
     ]
    }
   ],
   "source": [
    "n_episode         = 1000 # number of total episodes (rollouts)\n",
    "max_epi_sec       = 5.0 # maximum episode length in second (IMPORTANT)\n",
    "max_epi_tick      = int(max_epi_sec*gym.HZ) # maximum episode length in tick\n",
    "n_warmup_epi      = 10 # number of warm-up episodes\n",
    "buffer_limit      = 50000 # 50000\n",
    "buffer_warmup     = buffer_limit // 5\n",
    "init_alpha        = 0.1\n",
    "max_torque        = 2.0\n",
    "# Update\n",
    "lr_actor          = 0.0005 # 0.0002\n",
    "lr_alpha          = 0.0001 # 0.0003\n",
    "lr_critic         = 0.0001\n",
    "n_update_per_tick = 1 # number of updates per tick\n",
    "batch_size        = 256\n",
    "gamma             = 0.99\n",
    "tau               = 0.005\n",
    "# Debug\n",
    "print_every       = 50\n",
    "eval_every        = 50\n",
    "save_every        = 50\n",
    "RENDER_EVAL       = False # False\n",
    "print (\"n_episode:[%d], max_epi_sec:[%.2f], max_epi_tick:[%d]\"%\n",
    "       (n_episode,max_epi_sec,max_epi_tick))\n",
    "print (\"n_warmup_epi:[%d], buffer_limit:[%.d], buffer_warmup:[%d]\"%\n",
    "       (n_warmup_epi,buffer_limit,buffer_warmup))"
   ]
  },
  {
   "cell_type": "markdown",
   "id": "fc42393c-131f-4769-b110-f88c3fdd610c",
   "metadata": {},
   "source": [
    "#### Initialize networks"
   ]
  },
  {
   "cell_type": "code",
   "execution_count": 10,
   "id": "0f69ae65-97f7-4d84-984a-f74752c0faaf",
   "metadata": {},
   "outputs": [
    {
     "name": "stdout",
     "output_type": "stream",
     "text": [
      "Ready.\n"
     ]
    }
   ],
   "source": [
    "device = 'cpu' # cpu / mps / cuda\n",
    "replay_buffer = ReplayBufferClass(buffer_limit, device=device)\n",
    "actor_arg = {'obs_dim':gym.o_dim,'h_dims':[256,256],'out_dim':gym.a_dim,\n",
    "             'max_out':max_torque,'init_alpha':init_alpha,'lr_actor':lr_actor,\n",
    "             'lr_alpha':lr_alpha,'device':device}\n",
    "critic_arg = {'obs_dim':gym.o_dim,'a_dim':gym.a_dim,'h_dims':[256,256],'out_dim':1,\n",
    "              'lr_critic':lr_critic,'device':device}\n",
    "actor           = ActorClass(**actor_arg).to(device)\n",
    "critic_one      = CriticClass(**critic_arg).to(device)\n",
    "critic_two      = CriticClass(**critic_arg).to(device)\n",
    "critic_one_trgt = CriticClass(**critic_arg).to(device)\n",
    "critic_two_trgt = CriticClass(**critic_arg).to(device)\n",
    "print (\"Ready.\")"
   ]
  },
  {
   "cell_type": "code",
   "execution_count": 11,
   "id": "a4a57c1a-d9d3-44c9-91f0-b92df844f596",
   "metadata": {},
   "outputs": [
    {
     "name": "stdout",
     "output_type": "stream",
     "text": [
      "Floor priority:[1]\n",
      "gym.env.ctrl_ranges:\n",
      " [[-2.  2.]\n",
      " [-2.  2.]\n",
      " [-2.  2.]\n",
      " [-2.  2.]\n",
      " [-2.  2.]\n",
      " [-2.  2.]\n",
      " [-2.  2.]\n",
      " [-2.  2.]]\n"
     ]
    }
   ],
   "source": [
    "# Modify floor friction priority\n",
    "env.model.geom('floor').priority = 1 # 0=>1\n",
    "print (\"Floor priority:%s\"%(env.model.geom('floor').priority))\n",
    "gym.env.ctrl_ranges[:,0] = -max_torque\n",
    "gym.env.ctrl_ranges[:,1] = +max_torque\n",
    "print (\"gym.env.ctrl_ranges:\\n\",gym.env.ctrl_ranges)"
   ]
  },
  {
   "cell_type": "markdown",
   "id": "bdbbfb24-7e9c-4a9e-a89f-72e3fcfab8c4",
   "metadata": {},
   "source": [
    "#### Train using `SAC`"
   ]
  },
  {
   "cell_type": "code",
   "execution_count": 12,
   "id": "7637ea6c-e08f-4e8f-a822-e1073fa6511d",
   "metadata": {
    "scrolled": true
   },
   "outputs": [
    {
     "name": "stdout",
     "output_type": "stream",
     "text": [
      "Start training.\n",
      "[0/1000][0.0%]\n",
      "  reward:[157.8] x_diff:[0.046] epi_len:[249/250] buffer_size:[250] alpha:[0.10]\n",
      "  [Eval] reward:[-262.198] x_diff:[-0.053] epi_len:[249/250]\n",
      "  [Save] [./result/weights/sac_snapbot/episode_0.pth] saved.\n"
     ]
    },
    {
     "ename": "KeyboardInterrupt",
     "evalue": "",
     "output_type": "error",
     "traceback": [
      "\u001b[1;31m---------------------------------------------------------------------------\u001b[0m",
      "\u001b[1;31mKeyboardInterrupt\u001b[0m                         Traceback (most recent call last)",
      "Cell \u001b[1;32mIn[12], line 21\u001b[0m\n\u001b[0;32m     19\u001b[0m     a_np \u001b[38;5;241m=\u001b[39m torch2np(a)\n\u001b[0;32m     20\u001b[0m \u001b[38;5;66;03m# Step\u001b[39;00m\n\u001b[1;32m---> 21\u001b[0m s_prime,reward,done,info \u001b[38;5;241m=\u001b[39m \u001b[43mgym\u001b[49m\u001b[38;5;241;43m.\u001b[39;49m\u001b[43mstep\u001b[49m\u001b[43m(\u001b[49m\u001b[43ma_np\u001b[49m\u001b[43m,\u001b[49m\u001b[43mmax_time\u001b[49m\u001b[38;5;241;43m=\u001b[39;49m\u001b[43mmax_epi_sec\u001b[49m\u001b[43m)\u001b[49m\n\u001b[0;32m     22\u001b[0m replay_buffer\u001b[38;5;241m.\u001b[39mput((s,a_np,reward,s_prime,done))\n\u001b[0;32m     23\u001b[0m reward_total \u001b[38;5;241m+\u001b[39m\u001b[38;5;241m=\u001b[39m reward \n",
      "File \u001b[1;32mc:\\Users\\strn18\\Desktop\\KU-DATA403-simulator-tutorials\\notebook\\../package/gym\\snapbot_env.py:121\u001b[0m, in \u001b[0;36mSnapbotGymClass.step\u001b[1;34m(self, a, max_time)\u001b[0m\n\u001b[0;32m    118\u001b[0m yaw_torso_deg_prev \u001b[38;5;241m=\u001b[39m np\u001b[38;5;241m.\u001b[39mdegrees(r2rpy(R_torso_prev)[\u001b[38;5;241m2\u001b[39m])\n\u001b[0;32m    120\u001b[0m \u001b[38;5;66;03m# Run simulation for 'mujoco_nstep' steps\u001b[39;00m\n\u001b[1;32m--> 121\u001b[0m \u001b[38;5;28mself\u001b[39m\u001b[38;5;241m.\u001b[39menv\u001b[38;5;241m.\u001b[39mstep(ctrl\u001b[38;5;241m=\u001b[39ma,nstep\u001b[38;5;241m=\u001b[39m\u001b[38;5;28mself\u001b[39m\u001b[38;5;241m.\u001b[39mmujoco_nstep)\n\u001b[0;32m    123\u001b[0m \u001b[38;5;66;03m# Current torso position and yaw angle in degree\u001b[39;00m\n\u001b[0;32m    124\u001b[0m p_torso_curr       \u001b[38;5;241m=\u001b[39m \u001b[38;5;28mself\u001b[39m\u001b[38;5;241m.\u001b[39menv\u001b[38;5;241m.\u001b[39mget_p_body(\u001b[38;5;124m'\u001b[39m\u001b[38;5;124mtorso\u001b[39m\u001b[38;5;124m'\u001b[39m)\n",
      "File \u001b[1;32mc:\\Users\\strn18\\Desktop\\KU-DATA403-simulator-tutorials\\notebook\\../package/mujoco_usage\\mujoco_parser.py:431\u001b[0m, in \u001b[0;36mMuJoCoParserClass.step\u001b[1;34m(self, ctrl, ctrl_idxs, joint_names, nstep, increase_tick)\u001b[0m\n\u001b[0;32m    429\u001b[0m     \u001b[38;5;28;01mif\u001b[39;00m ctrl_idxs \u001b[38;5;129;01mis\u001b[39;00m \u001b[38;5;28;01mNone\u001b[39;00m: \u001b[38;5;28mself\u001b[39m\u001b[38;5;241m.\u001b[39mdata\u001b[38;5;241m.\u001b[39mctrl[:] \u001b[38;5;241m=\u001b[39m ctrl\n\u001b[0;32m    430\u001b[0m     \u001b[38;5;28;01melse\u001b[39;00m: \u001b[38;5;28mself\u001b[39m\u001b[38;5;241m.\u001b[39mdata\u001b[38;5;241m.\u001b[39mctrl[ctrl_idxs] \u001b[38;5;241m=\u001b[39m ctrl\n\u001b[1;32m--> 431\u001b[0m \u001b[43mmujoco\u001b[49m\u001b[38;5;241;43m.\u001b[39;49m\u001b[43mmj_step\u001b[49m\u001b[43m(\u001b[49m\u001b[38;5;28;43mself\u001b[39;49m\u001b[38;5;241;43m.\u001b[39;49m\u001b[43mmodel\u001b[49m\u001b[43m,\u001b[49m\u001b[38;5;28;43mself\u001b[39;49m\u001b[38;5;241;43m.\u001b[39;49m\u001b[43mdata\u001b[49m\u001b[43m,\u001b[49m\u001b[43mnstep\u001b[49m\u001b[38;5;241;43m=\u001b[39;49m\u001b[43mnstep\u001b[49m\u001b[43m)\u001b[49m\n\u001b[0;32m    432\u001b[0m \u001b[38;5;28;01mif\u001b[39;00m increase_tick: \u001b[38;5;28mself\u001b[39m\u001b[38;5;241m.\u001b[39mtick \u001b[38;5;241m=\u001b[39m \u001b[38;5;28mself\u001b[39m\u001b[38;5;241m.\u001b[39mtick \u001b[38;5;241m+\u001b[39m \u001b[38;5;241m1\u001b[39m\n",
      "\u001b[1;31mKeyboardInterrupt\u001b[0m: "
     ]
    }
   ],
   "source": [
    "REMOVE_PREV_FILES = False # remove previous files\n",
    "\n",
    "# Loop\n",
    "np.random.seed(seed=0) # fix seed\n",
    "print (\"Start training.\")\n",
    "for epi_idx in range(n_episode+1): # for each episode\n",
    "    zero_to_one = epi_idx/n_episode\n",
    "    one_to_zero = 1-zero_to_one\n",
    "    # Reset gym\n",
    "    s = gym.reset()\n",
    "    # Loop\n",
    "    USE_RANDOM_POLICY = (np.random.rand()<(0.1*one_to_zero)) or (epi_idx < n_warmup_epi)\n",
    "    reward_total,reward_forward = 0.0,0.0\n",
    "    for tick in range(max_epi_tick): # for each tick in an episode\n",
    "        if USE_RANDOM_POLICY:\n",
    "            a_np = gym.sample_action()\n",
    "        else:\n",
    "            a,log_prob = actor(np2torch(s,device=device))\n",
    "            a_np = torch2np(a)\n",
    "        # Step\n",
    "        s_prime,reward,done,info = gym.step(a_np,max_time=max_epi_sec)\n",
    "        replay_buffer.put((s,a_np,reward,s_prime,done))\n",
    "        reward_total += reward \n",
    "        reward_forward += info['r_forward']\n",
    "        s = s_prime\n",
    "        if done is True: break # terminate condition\n",
    "        \n",
    "        # Replay buffer\n",
    "        if replay_buffer.size() > buffer_warmup:\n",
    "             for _ in range(n_update_per_tick): \n",
    "                mini_batch = replay_buffer.sample(batch_size)\n",
    "                # Update critics\n",
    "                td_target = get_target(\n",
    "                    actor,\n",
    "                    critic_one_trgt,\n",
    "                    critic_two_trgt,\n",
    "                    gamma      = gamma,\n",
    "                    mini_batch = mini_batch,\n",
    "                    device     = device,\n",
    "                )\n",
    "                critic_one.train(td_target,mini_batch)\n",
    "                critic_two.train(td_target,mini_batch)\n",
    "                # Update actor\n",
    "                actor.train(\n",
    "                    critic_one,\n",
    "                    critic_two,\n",
    "                    target_entropy = -gym.a_dim,\n",
    "                    mini_batch     = mini_batch,\n",
    "                )\n",
    "                # Soft update of critics\n",
    "                critic_one.soft_update(tau=tau,net_target=critic_one_trgt)\n",
    "                critic_two.soft_update(tau=tau,net_target=critic_two_trgt)\n",
    "\n",
    "    # Compute x_diff\n",
    "    x_diff = gym.env.get_p_body('torso')[0]\n",
    "    \n",
    "    # Print\n",
    "    if (epi_idx%print_every)==0:\n",
    "        epi_tick = tick\n",
    "        print (\"[%d/%d][%.1f%%]\"%(epi_idx,n_episode,100.0*(epi_idx/n_episode)))\n",
    "        print (\"  reward:[%.1f] x_diff:[%.3f] epi_len:[%d/%d] buffer_size:[%d] alpha:[%.2f]\"%\n",
    "               (reward_total,x_diff,epi_tick,max_epi_tick,\n",
    "                replay_buffer.size(),actor.log_alpha.exp()))\n",
    "    \n",
    "    # Evaluation\n",
    "    if (epi_idx%eval_every)==0:\n",
    "        if RENDER_EVAL: gym.init_viewer()\n",
    "        s = gym.reset()\n",
    "        reward_total = 0.0\n",
    "        for tick in range(max_epi_tick):\n",
    "            a,_ = actor(np2torch(s,device=device),SAMPLE_ACTION=False)\n",
    "            s_prime,reward,done,info = gym.step(torch2np(a),max_time=max_epi_sec)\n",
    "            reward_total += reward\n",
    "            if RENDER_EVAL and ((tick%5) == 0):\n",
    "                gym.render(\n",
    "                    TRACK_TORSO      = True,\n",
    "                    PLOT_WORLD_COORD = True,\n",
    "                    PLOT_TORSO_COORD = True,\n",
    "                    PLOT_SENSOR      = True,\n",
    "                    PLOT_CONTACT     = True,\n",
    "                    PLOT_TIME        = True,\n",
    "                )\n",
    "            s = s_prime\n",
    "            if RENDER_EVAL:\n",
    "                if not gym.is_viewer_alive(): break\n",
    "        if RENDER_EVAL: gym.close_viewer()\n",
    "        x_diff = gym.env.get_p_body('torso')[0]\n",
    "        print (\"  [Eval] reward:[%.3f] x_diff:[%.3f] epi_len:[%d/%d]\"%\n",
    "               (reward_total,x_diff,tick,max_epi_tick))\n",
    "\n",
    "    # Save network\n",
    "    if (epi_idx%save_every)==0:\n",
    "        pth_path = './result/weights/sac_%s/episode_%d.pth'%(gym.name.lower(),epi_idx)\n",
    "        dir_path = os.path.dirname(pth_path)\n",
    "        if not os.path.exists(dir_path): os.makedirs(dir_path)\n",
    "        if (epi_idx == 0) and REMOVE_PREV_FILES: # remove all existing files\n",
    "            files = os.listdir(path=dir_path)\n",
    "            print (\"  [Save] Remove existing [%d] pth files.\"%(len(files)))\n",
    "            for file in files: os.remove(os.path.join(dir_path,file))\n",
    "        torch.save(actor.state_dict(),pth_path)\n",
    "        print (\"  [Save] [%s] saved.\"%(pth_path))\n",
    "\n",
    "print (\"Done.\")"
   ]
  },
  {
   "cell_type": "code",
   "execution_count": null,
   "id": "e272e03d-f38b-4487-8b0c-c36a9f3c4f47",
   "metadata": {},
   "outputs": [],
   "source": []
  }
 ],
 "metadata": {
  "kernelspec": {
   "display_name": "snapbot-env",
   "language": "python",
   "name": "python3"
  },
  "language_info": {
   "codemirror_mode": {
    "name": "ipython",
    "version": 3
   },
   "file_extension": ".py",
   "mimetype": "text/x-python",
   "name": "python",
   "nbconvert_exporter": "python",
   "pygments_lexer": "ipython3",
   "version": "3.10.16"
  }
 },
 "nbformat": 4,
 "nbformat_minor": 5
}
